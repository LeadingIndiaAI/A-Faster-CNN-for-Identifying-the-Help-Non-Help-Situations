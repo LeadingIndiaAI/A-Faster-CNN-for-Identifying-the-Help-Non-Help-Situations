{
 "cells": [
  {
   "cell_type": "code",
   "execution_count": 1,
   "metadata": {},
   "outputs": [],
   "source": [
    "import torch\n",
    "import torch.nn as nn\n",
    "import numpy as np\n",
    "import matplotlib.pyplot as plt"
   ]
  },
  {
   "cell_type": "code",
   "execution_count": 2,
   "metadata": {},
   "outputs": [
    {
     "ename": "SyntaxError",
     "evalue": "invalid syntax (test_model.py, line 33)",
     "output_type": "error",
     "traceback": [
      "Traceback \u001b[1;36m(most recent call last)\u001b[0m:\n",
      "  File \u001b[0;32m\"C:\\Users\\imdcl\\Anaconda3\\lib\\site-packages\\IPython\\core\\interactiveshell.py\"\u001b[0m, line \u001b[0;32m3326\u001b[0m, in \u001b[0;35mrun_code\u001b[0m\n    exec(code_obj, self.user_global_ns, self.user_ns)\n",
      "\u001b[1;36m  File \u001b[1;32m\"<ipython-input-2-40e7b008c781>\"\u001b[1;36m, line \u001b[1;32m3\u001b[1;36m, in \u001b[1;35m<module>\u001b[1;36m\u001b[0m\n\u001b[1;33m    from utils.test_model import test_model\u001b[0m\n",
      "\u001b[1;36m  File \u001b[1;32m\"C:\\Users\\imdcl\\Documents\\Help_NotHelp\\notebooks\\utils\\test_model.py\"\u001b[1;36m, line \u001b[1;32m33\u001b[0m\n\u001b[1;33m    print('Time elapsed : {:.0f}m {:.0f}s', .format(time_elapsed//60, time_elapsed % 60))\u001b[0m\n\u001b[1;37m                                            ^\u001b[0m\n\u001b[1;31mSyntaxError\u001b[0m\u001b[1;31m:\u001b[0m invalid syntax\n"
     ]
    }
   ],
   "source": [
    "from utils.load_data import load_data\n",
    "from utils.load_model import load_model\n",
    "from utils.test_model import test_model"
   ]
  },
  {
   "cell_type": "code",
   "execution_count": null,
   "metadata": {},
   "outputs": [],
   "source": [
    "dataloaders, dataset_size, class_name = load_data('../data')"
   ]
  },
  {
   "cell_type": "code",
   "execution_count": null,
   "metadata": {},
   "outputs": [],
   "source": [
    "conv_idx = [2, 8, 11, 14, 17, 21, 24, 27, 30, 33, 37, 40, 43, 46, 49, 53, 56, 59, 62, 65]\n",
    "skip_layers = [2, 11, 14, 17, 24, 33, 40, 49, 56, 59, 65]\n",
    "prune_layers = [x for x in conv_idx if x not in skip_layers]\n",
    "prune_prob = [0.1, 0.2, 0.3, 0.4, 0.6]"
   ]
  },
  {
   "cell_type": "code",
   "execution_count": null,
   "metadata": {},
   "outputs": [],
   "source": [
    "class Node():\n",
    "    \n",
    "    def __init__(self, mod):\n",
    "        self.next = None\n",
    "        self.prev = None\n",
    "        self.name = type(mod)\n",
    "        \n",
    "        self.prev_pruned = None\n",
    "        self.pruned = None\n",
    "        self.no_filter = None\n",
    "        self.mask_filter = None\n",
    "        \n",
    "        self.layer_id = 1\n",
    "            \n",
    "    def make_mask(self, mod, skip_layers, prune_layers):\n",
    "        \n",
    "        no_filter = mod.weight.data.shape[0]\n",
    "\n",
    "        if mod.kernel_size == (1,1):\n",
    "            self.pruned = False\n",
    "            self.no_filter = None\n",
    "            self.mask_filter = None\n",
    "            return\n",
    "        \n",
    "        elif self.layer_id in skip_layers:\n",
    "            mask_filter = torch.ones(no_filter)\n",
    "            \n",
    "            self.pruned = False\n",
    "            self.no_filter = no_filter\n",
    "            self.mask_filter = mask_filter\n",
    "            return\n",
    "        \n",
    "        elif self.layer_id in prune_layers:\n",
    "            if self.layer_id <= 8:\n",
    "                stage = 0\n",
    "            elif self.layer_id <= 21:\n",
    "                stage = 1\n",
    "            elif self.layer_id <= 36:\n",
    "                stage = 2\n",
    "            elif self.layer_id <= 53:\n",
    "                stage = 3\n",
    "            else:\n",
    "                stage = 4\n",
    "            prune_prob_stage = prune_prob[stage]\n",
    "            weight_copy = mod.weight.data.abs().clone().cpu().numpy()\n",
    "            L1_norm = np.sum(weight_copy, axis = (1,2,3))\n",
    "            num_keep = int(no_filter * (1 - prune_prob_stage))\n",
    "            arg_max = np.argsort(L1_norm)\n",
    "            arg_max_rev = arg_max[::-1][:num_keep]\n",
    "            mask_filter = torch.zeros(no_filter)\n",
    "            mask_filter[arg_max_rev.tolist()] = 1\n",
    "            \n",
    "            self.pruned = True\n",
    "            self.no_filter = num_keep\n",
    "            self.mask_filter = mask_filter\n",
    "            return"
   ]
  },
  {
   "cell_type": "code",
   "execution_count": null,
   "metadata": {},
   "outputs": [],
   "source": [
    "class PruneDDL():\n",
    "        \n",
    "    def __init__(self):\n",
    "        self.head = None\n",
    "        \n",
    "    def append(self, mod, process = False):\n",
    "        \n",
    "        if self.head == None:\n",
    "            self.head = Node(mod)\n",
    "            self.head.next = None\n",
    "            self.head.prev = None\n",
    "        else:\n",
    "            ptr = self.head\n",
    "            while ptr.next!=None:\n",
    "                ptr = ptr.next\n",
    "            new_node = Node(mod)\n",
    "            new_node.next = None\n",
    "            ptr.next = new_node\n",
    "            new_node.prev = ptr\n",
    "        \n",
    "            if new_node.prev == None:\n",
    "                new_node.layer_id = 2\n",
    "            else:\n",
    "                new_node.layer_id = new_node.prev.layer_id + 1\n",
    "            \n",
    "            ptr = self.head\n",
    "            \n",
    "            if isinstance(mod, nn.Conv2d) and process:\n",
    "                \n",
    "                if new_node.layer_id!=2:\n",
    "                    prev_layer_id = conv_idx[conv_idx.index(new_node.layer_id) - 1]\n",
    "                    while ptr.layer_id!=prev_layer_id:\n",
    "                        ptr = ptr.next\n",
    "\n",
    "                    if ptr.pruned:\n",
    "                        new_node.prev_pruned = True\n",
    "                \n",
    "                new_node.make_mask(mod, skip_layers, prune_layers)\n",
    "                \n",
    "    def prev_conv_dim(self, layer_id):\n",
    "        \n",
    "        if layer_id == 2:\n",
    "            return\n",
    "        prev_layer_id = conv_idx[conv_idx.index(layer_id) - 1]\n",
    "        ptr = self.head\n",
    "        \n",
    "        while ptr.layer_id!=prev_layer_id:\n",
    "            ptr = ptr.next\n",
    "        \n",
    "        return ptr.no_filter"
   ]
  },
  {
   "cell_type": "code",
   "execution_count": null,
   "metadata": {},
   "outputs": [],
   "source": [
    "model_orig = load_model('../models/resnet18_01')\n",
    "model_orig_ddl = PruneDDL()\n",
    "\n",
    "for m in model_orig.modules():\n",
    "    model_orig_ddl.append(m, True)\n",
    "\n",
    "m = [x for x in model_orig.modules() if isinstance(x, nn.Linear)]\n",
    "model_orig_ddl.append(m[0])\n",
    "\n",
    "node_orig = model_orig_ddl.head"
   ]
  },
  {
   "cell_type": "code",
   "execution_count": null,
   "metadata": {},
   "outputs": [],
   "source": [
    "model_prune = load_model()"
   ]
  },
  {
   "cell_type": "code",
   "execution_count": null,
   "metadata": {},
   "outputs": [],
   "source": [
    "for m0, m1 in zip(model_orig.modules(), model_prune.modules()):\n",
    "    \n",
    "    if node_orig == None:\n",
    "        break\n",
    "        \n",
    "    if isinstance(m0, nn.Conv2d):\n",
    "        \n",
    "        if m0.kernel_size == (1,1):\n",
    "            m1.weight.data = m0.weight.data.clone()\n",
    "            \n",
    "        if node_orig.layer_id == 2:\n",
    "            m1.weight.data = m0.weight.data.clone()\n",
    "            \n",
    "        if node_orig.pruned:\n",
    "            mask = node_orig.mask_filter\n",
    "            idx = np.squeeze(np.argwhere(np.asarray(mask.cpu().numpy())))\n",
    "            if idx.size == 1:\n",
    "                idx = np.resize(idx, (1,))\n",
    "            w = m0.weight.data[idx.tolist(), :, :, :].clone()\n",
    "            m1.weight.data = w.clone()\n",
    "            \n",
    "        if node_orig.prev_pruned:\n",
    "            ptr = model_orig_ddl.head\n",
    "            prev_layer_id = conv_idx[conv_idx.index(node_orig.layer_id)-1]\n",
    "            while ptr.layer_id!=prev_layer_id:\n",
    "                ptr = ptr.next\n",
    "            mask = ptr.mask_filter\n",
    "            idx = np.squeeze(np.argwhere(np.asarray(mask.cpu().numpy())))\n",
    "            if idx.size == 1:\n",
    "                idx = np.resize(idx, (1,))\n",
    "            w = m0.weight.data[:, idx.tolist(), :, :].clone()\n",
    "            m1.weight.data = w.clone()\n",
    "            \n",
    "    elif isinstance(m0, nn.BatchNorm2d):\n",
    "        assert isinstance(m1, nn.BatchNorm2d)\n",
    "        \n",
    "        if node_orig.prev.pruned:\n",
    "            mask = node_orig.prev.mask_filter\n",
    "            idx = np.squeeze(np.argwhere(np.asarray(mask.cpu().numpy())))\n",
    "            if idx.size == 1:\n",
    "                idx = np.resize(idx, (1,))\n",
    "            m1.weight.data = m0.weight.data[idx.tolist()].clone()\n",
    "            m1.bias.data = m0.bias.data[idx.tolist()].clone()\n",
    "            m1.running_mean = m0.running_mean[idx.tolist()].clone()\n",
    "            m1.running_var = m0.running_var[idx.tolist()].clone()\n",
    "        else:\n",
    "            m1.weight.data = m0.weight.data.clone()\n",
    "            m1.bias.data = m0.bias.data.clone()\n",
    "            m1.running_mean = m0.running_mean.clone()\n",
    "            m1.running_var = m0.running_var.clone()\n",
    "            \n",
    "    elif isinstance(m0, nn.Linear):\n",
    "        m1.weight.data = m0.weight.data.clone()\n",
    "        m1.bias.data = m0.bias.data.clone()\n",
    "            \n",
    "    node_orig = node_orig.next  \n",
    "    "
   ]
  },
  {
   "cell_type": "code",
   "execution_count": null,
   "metadata": {},
   "outputs": [],
   "source": [
    "test_model(model_orig, dataloaders['test'])"
   ]
  },
  {
   "cell_type": "code",
   "execution_count": null,
   "metadata": {},
   "outputs": [],
   "source": [
    "test_model(model_prune, dataloaders['test'])"
   ]
  },
  {
   "cell_type": "code",
   "execution_count": null,
   "metadata": {},
   "outputs": [],
   "source": [
    "model_prune.load_state_dict(torch.load('../models/pruned_model_retrained'))"
   ]
  },
  {
   "cell_type": "code",
   "execution_count": null,
   "metadata": {},
   "outputs": [],
   "source": [
    "test_model(model_prune, dataloaders['test'])"
   ]
  },
  {
   "cell_type": "code",
   "execution_count": null,
   "metadata": {},
   "outputs": [],
   "source": [
    "from utils.visualize import visualize_model\n",
    "from utils.train_model import train_model"
   ]
  },
  {
   "cell_type": "code",
   "execution_count": null,
   "metadata": {
    "scrolled": true
   },
   "outputs": [],
   "source": [
    "device = ('cuda:0' if torch.cuda.is_available() else 'cpu')\n",
    "fig = visualize_model(model_orig, dataloaders, device, class_name, name='orig')\n",
    "fig.savefig('orig')"
   ]
  },
  {
   "cell_type": "code",
   "execution_count": null,
   "metadata": {},
   "outputs": [],
   "source": [
    "plt = visualize_model(model_prune, dataloaders, device, class_name,name= 'prune')"
   ]
  },
  {
   "cell_type": "code",
   "execution_count": null,
   "metadata": {},
   "outputs": [],
   "source": [
    "from torchsummary import summary"
   ]
  },
  {
   "cell_type": "code",
   "execution_count": null,
   "metadata": {},
   "outputs": [],
   "source": [
    "summary(model_orig, (3,224,224))"
   ]
  },
  {
   "cell_type": "code",
   "execution_count": null,
   "metadata": {},
   "outputs": [],
   "source": [
    "summary(model_prune, (3,224,224))"
   ]
  },
  {
   "cell_type": "code",
   "execution_count": null,
   "metadata": {},
   "outputs": [],
   "source": []
  },
  {
   "cell_type": "code",
   "execution_count": null,
   "metadata": {},
   "outputs": [],
   "source": []
  },
  {
   "cell_type": "code",
   "execution_count": null,
   "metadata": {},
   "outputs": [],
   "source": []
  },
  {
   "cell_type": "code",
   "execution_count": null,
   "metadata": {},
   "outputs": [],
   "source": []
  },
  {
   "cell_type": "code",
   "execution_count": null,
   "metadata": {},
   "outputs": [],
   "source": []
  },
  {
   "cell_type": "code",
   "execution_count": null,
   "metadata": {},
   "outputs": [],
   "source": []
  },
  {
   "cell_type": "code",
   "execution_count": null,
   "metadata": {},
   "outputs": [],
   "source": []
  },
  {
   "cell_type": "code",
   "execution_count": null,
   "metadata": {},
   "outputs": [],
   "source": []
  }
 ],
 "metadata": {
  "kernelspec": {
   "display_name": "Python 3",
   "language": "python",
   "name": "python3"
  },
  "language_info": {
   "codemirror_mode": {
    "name": "ipython",
    "version": 3
   },
   "file_extension": ".py",
   "mimetype": "text/x-python",
   "name": "python",
   "nbconvert_exporter": "python",
   "pygments_lexer": "ipython3",
   "version": "3.7.4"
  }
 },
 "nbformat": 4,
 "nbformat_minor": 2
}
